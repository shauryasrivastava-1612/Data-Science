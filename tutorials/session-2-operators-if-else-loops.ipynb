{
 "cells": [
  {
   "cell_type": "markdown",
   "metadata": {},
   "source": [
    "# 1. Operators\n",
    "* Arithmatic Operators\n",
    "* Relational Operators\n",
    "* Logical Operators\n",
    "* Bitwise Operators\n",
    "* Assignment Operaors\n",
    "* Membership Operators\n"
   ]
  },
  {
   "cell_type": "code",
   "execution_count": 8,
   "metadata": {},
   "outputs": [
    {
     "name": "stdout",
     "output_type": "stream",
     "text": [
      "8\n",
      "2\n",
      "4\n",
      "1.0\n",
      "2\n",
      "4\n",
      "1\n"
     ]
    }
   ],
   "source": [
    "# Arithmatic Operators\n",
    "print(4+4)\n",
    "\n",
    "print(3-1)\n",
    "\n",
    "print(2*2)\n",
    "\n",
    "print(3/3)\n",
    "\n",
    "print(4//2)\n",
    "\n",
    "print(2**2)\n",
    "\n",
    "print(3%2)"
   ]
  },
  {
   "cell_type": "code",
   "execution_count": 9,
   "metadata": {},
   "outputs": [
    {
     "name": "stdout",
     "output_type": "stream",
     "text": [
      "True\n",
      "False\n",
      "False\n",
      "False\n",
      "False\n",
      "False\n"
     ]
    }
   ],
   "source": [
    "# Relational Operators\n",
    "print(4<= 5)\n",
    "print(2>=6)\n",
    "print(3!=3)\n",
    "print(3==4)\n",
    "print(3>5)\n",
    "print(3<2)\n"
   ]
  },
  {
   "cell_type": "code",
   "execution_count": 10,
   "metadata": {},
   "outputs": [
    {
     "name": "stdout",
     "output_type": "stream",
     "text": [
      "1\n",
      "4\n",
      "False\n"
     ]
    }
   ],
   "source": [
    "# Logical Operators\n",
    "print(1 or 0)\n",
    "print(1 and 4)\n",
    "print( not 3)"
   ]
  },
  {
   "cell_type": "code",
   "execution_count": 11,
   "metadata": {},
   "outputs": [
    {
     "name": "stdout",
     "output_type": "stream",
     "text": [
      "2\n",
      "7\n",
      "7\n",
      "-5\n",
      "1\n",
      "16\n"
     ]
    }
   ],
   "source": [
    "# Bitwise Operators\n",
    "print(2 & 3)\n",
    "\n",
    "print(3 | 5)\n",
    "\n",
    "print(3 ^ 4)\n",
    "\n",
    "print(~ 4) \n",
    "print(3 >> 1)\n",
    "\n",
    "print(4 << 2)\n"
   ]
  },
  {
   "cell_type": "code",
   "execution_count": 12,
   "metadata": {},
   "outputs": [
    {
     "name": "stdout",
     "output_type": "stream",
     "text": [
      "0.0\n"
     ]
    }
   ],
   "source": [
    "# Assignment Operators\n",
    "a = 2\n",
    "a +-2\n",
    "a -= 2 \n",
    "a *=3\n",
    "a /= 3\n",
    "print(a)"
   ]
  },
  {
   "cell_type": "code",
   "execution_count": 13,
   "metadata": {},
   "outputs": [
    {
     "name": "stdout",
     "output_type": "stream",
     "text": [
      "True\n",
      "True\n",
      "False\n"
     ]
    }
   ],
   "source": [
    "# Membership Operators\n",
    "\n",
    "# in\n",
    "print ( 'D' in 'Delhi' )\n",
    "print( 1 in [1,2,4,6])\n",
    "# not in\n",
    "print(1 not in [2,5,7,1] )\n"
   ]
  },
  {
   "cell_type": "code",
   "execution_count": 14,
   "metadata": {},
   "outputs": [
    {
     "name": "stdout",
     "output_type": "stream",
     "text": [
      "6\n"
     ]
    }
   ],
   "source": [
    "# Program - Find the sum of a 3 digit number entered by the user\n",
    "\n",
    "number = int(input('Enter a 3 digit number'))\n",
    "\n",
    "digit = number % 10 \n",
    "a = digit \n",
    "number = number // 10\n",
    "digit = number % 10 \n",
    "b = digit \n",
    "number = number // 10\n",
    "digit = number % 10 \n",
    "c = digit \n",
    "number = number // 10\n",
    "\n",
    "print(a+b+c)\n"
   ]
  },
  {
   "cell_type": "markdown",
   "metadata": {},
   "source": [
    "# 2. If-Else in Python\n"
   ]
  },
  {
   "cell_type": "code",
   "execution_count": 15,
   "metadata": {},
   "outputs": [
    {
     "name": "stdout",
     "output_type": "stream",
     "text": [
      "Wrong credentials\n"
     ]
    }
   ],
   "source": [
    "# logic program and indentation\n",
    "# email -> shaurya123@gmail.com\n",
    "# password -> 1234678\n",
    "\n",
    "email = input('enter email')\n",
    "password = input('enter password')\n",
    "\n",
    "if email == \"shaurya123@gmail.com\" and password == \"12345678\" :\n",
    "    print('You are loged in...')\n",
    "elif email == \"shaurya123@gmail.com\" and password != \"12345678\" :\n",
    "    print('wrong password')\n",
    "    password = input('Enter the password again')\n",
    "    if password == '12345678' :\n",
    "        print('You are loged in...')\n",
    "    else :\n",
    "        print('try later')\n",
    "else :\n",
    "    print('Wrong credentials')"
   ]
  },
  {
   "cell_type": "code",
   "execution_count": 16,
   "metadata": {},
   "outputs": [],
   "source": [
    "# if- email examples\n",
    "# 1. find the min of 3 given numbers\n",
    "# 2. Menu driven program"
   ]
  },
  {
   "cell_type": "code",
   "execution_count": 17,
   "metadata": {},
   "outputs": [
    {
     "name": "stdout",
     "output_type": "stream",
     "text": [
      "smmallest is 1\n"
     ]
    }
   ],
   "source": [
    "# min of 3 number\n",
    "\n",
    "a = int(input('first number'))\n",
    "b = int(input('first number'))\n",
    "c = int(input('first number'))\n",
    "\n",
    "if a < b and a < c :\n",
    "    print('smmallest is',a)\n",
    "elif b < c :\n",
    "    print('smallest is',b)\n",
    "else :\n",
    "    print('smallest is',c)\n"
   ]
  },
  {
   "cell_type": "code",
   "execution_count": 18,
   "metadata": {},
   "outputs": [
    {
     "name": "stdout",
     "output_type": "stream",
     "text": [
      "0\n"
     ]
    }
   ],
   "source": [
    "# menu driven calculator\n",
    "fnum = int(input('enter first number : '))\n",
    "op = input('enter the operation : ')\n",
    "snum = int(input('enter second number : '))\n",
    "if op == '+' :\n",
    "    result = fnum + snum\n",
    "elif op == '-' :\n",
    "    result = fnum - snum\n",
    "elif op == '*' :\n",
    "    result = fnum * snum\n",
    "elif op == '/' :\n",
    "    result = fnum // snum\n",
    "else :\n",
    "    result = 'Invalid'\n",
    "print(result)"
   ]
  },
  {
   "cell_type": "code",
   "execution_count": 19,
   "metadata": {},
   "outputs": [
    {
     "name": "stdout",
     "output_type": "stream",
     "text": [
      "balance check\n"
     ]
    }
   ],
   "source": [
    "# menu driven atm\n",
    "menu = input(\"\"\"\n",
    "Hi! how can i help you.\n",
    "1. Enter 1 for pin change\n",
    "2. enter 2 for balance check\n",
    "3. enter 3 for withdrawl\n",
    "4. enter 4 for for exit\n",
    "\"\"\")\n",
    "\n",
    "if menu == '1' :\n",
    "    print('pin change')\n",
    "elif menu == '2' :\n",
    "    print('balance check')\n",
    "elif menu == '3' :\n",
    "    print('withdrawl')\n",
    "elif menu == '4' :\n",
    "    print('exit')\n",
    "else :\n",
    "    print('invalid')"
   ]
  },
  {
   "cell_type": "markdown",
   "metadata": {},
   "source": [
    "# 3. Modules in Python\n",
    "* math\n",
    "* keyword\n",
    "* random\n",
    "* datetime"
   ]
  },
  {
   "cell_type": "code",
   "execution_count": 20,
   "metadata": {},
   "outputs": [
    {
     "data": {
      "text/plain": [
       "14.0"
      ]
     },
     "execution_count": 20,
     "metadata": {},
     "output_type": "execute_result"
    }
   ],
   "source": [
    "# math\n",
    "import math\n",
    "\n",
    "math.factorial(5)\n",
    "math.floor(6.8)\n",
    "math.sqrt(196)"
   ]
  },
  {
   "cell_type": "code",
   "execution_count": 21,
   "metadata": {},
   "outputs": [
    {
     "data": {
      "text/plain": [
       "['False',\n",
       " 'None',\n",
       " 'True',\n",
       " 'and',\n",
       " 'as',\n",
       " 'assert',\n",
       " 'async',\n",
       " 'await',\n",
       " 'break',\n",
       " 'class',\n",
       " 'continue',\n",
       " 'def',\n",
       " 'del',\n",
       " 'elif',\n",
       " 'else',\n",
       " 'except',\n",
       " 'finally',\n",
       " 'for',\n",
       " 'from',\n",
       " 'global',\n",
       " 'if',\n",
       " 'import',\n",
       " 'in',\n",
       " 'is',\n",
       " 'lambda',\n",
       " 'nonlocal',\n",
       " 'not',\n",
       " 'or',\n",
       " 'pass',\n",
       " 'raise',\n",
       " 'return',\n",
       " 'try',\n",
       " 'while',\n",
       " 'with',\n",
       " 'yield']"
      ]
     },
     "execution_count": 21,
     "metadata": {},
     "output_type": "execute_result"
    }
   ],
   "source": [
    "# keyword\n",
    "import keyword\n",
    "keyword.kwlist"
   ]
  },
  {
   "cell_type": "code",
   "execution_count": 22,
   "metadata": {},
   "outputs": [
    {
     "name": "stdout",
     "output_type": "stream",
     "text": [
      "5\n"
     ]
    }
   ],
   "source": [
    "# random\n",
    "import random\n",
    "print(random.randint(1,10))"
   ]
  },
  {
   "cell_type": "code",
   "execution_count": 23,
   "metadata": {},
   "outputs": [
    {
     "name": "stdout",
     "output_type": "stream",
     "text": [
      "2024-12-20 18:39:57.893630\n"
     ]
    }
   ],
   "source": [
    "# datetime\n",
    "import datetime\n",
    "\n",
    "print(datetime.datetime.now())"
   ]
  },
  {
   "cell_type": "code",
   "execution_count": null,
   "metadata": {},
   "outputs": [],
   "source": [
    "print(help('modules'))"
   ]
  },
  {
   "cell_type": "markdown",
   "metadata": {},
   "source": [
    "# 4. Loops in Python\n",
    "* Need for loops\n",
    "* While Loop\n",
    "* For Loop"
   ]
  },
  {
   "cell_type": "code",
   "execution_count": 26,
   "metadata": {},
   "outputs": [],
   "source": [
    "# while loop example -> program to print the table\n",
    "# program -> sum of all digits of a given number \n",
    "# program -> keep accepting number from users till he/she enters a 0 and then find the avg"
   ]
  },
  {
   "cell_type": "code",
   "execution_count": 29,
   "metadata": {},
   "outputs": [
    {
     "name": "stdout",
     "output_type": "stream",
     "text": [
      "32 * 1 = 32\n",
      "32 * 2 = 64\n",
      "32 * 3 = 96\n",
      "32 * 4 = 128\n",
      "32 * 5 = 160\n",
      "32 * 6 = 192\n",
      "32 * 7 = 224\n",
      "32 * 8 = 256\n",
      "32 * 9 = 288\n",
      "32 * 10 = 320\n"
     ]
    }
   ],
   "source": [
    "number = int(input('enter the number'))\n",
    "\n",
    "i = 1\n",
    "\n",
    "while i < 11 :\n",
    "    print(number, '*',  i , '=' , number*i)\n",
    "    i += 1"
   ]
  },
  {
   "cell_type": "code",
   "execution_count": 30,
   "metadata": {},
   "outputs": [
    {
     "name": "stdout",
     "output_type": "stream",
     "text": [
      "1\n",
      "2\n",
      "Limit crossed\n"
     ]
    }
   ],
   "source": [
    "# while loop with else\n",
    "\n",
    "x = 1\n",
    "\n",
    "while x < 3 :\n",
    "    print(x)\n",
    "    x += 1 \n",
    "\n",
    "else : \n",
    "    print('Limit crossed')\n",
    "    "
   ]
  },
  {
   "cell_type": "code",
   "execution_count": 31,
   "metadata": {},
   "outputs": [
    {
     "name": "stdout",
     "output_type": "stream",
     "text": [
      "galat! guess higher\n"
     ]
    }
   ],
   "source": [
    "# gussing game\n",
    "\n",
    "# generate a random integer between 1 and 100\n",
    "\n",
    "import random\n",
    "jackpot = random.randint(1,100)\n",
    "\n",
    "guess = int(input('guess karo'))\n",
    "\n",
    "while (guess == jackpot) :\n",
    "    if guess < jackpot :\n",
    "        print('galat! guess higher')\n",
    "    else :\n",
    "        print('galat! guess lower')\n",
    "    guess = int(input('guess karo : '))\n",
    "\n",
    "        \n"
   ]
  }
 ],
 "metadata": {
  "kernelspec": {
   "display_name": "Python 3",
   "language": "python",
   "name": "python3"
  },
  "language_info": {
   "codemirror_mode": {
    "name": "ipython",
    "version": 3
   },
   "file_extension": ".py",
   "mimetype": "text/x-python",
   "name": "python",
   "nbconvert_exporter": "python",
   "pygments_lexer": "ipython3",
   "version": "3.12.7"
  }
 },
 "nbformat": 4,
 "nbformat_minor": 2
}
