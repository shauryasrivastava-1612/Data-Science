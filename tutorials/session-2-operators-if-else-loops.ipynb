{
 "cells": [
  {
   "cell_type": "markdown",
   "metadata": {},
   "source": [
    "# 1. Operators\n",
    "* Arithmatic Operators\n",
    "* Relational Operators\n",
    "* Logical Operators\n",
    "* Bitwise Operators\n",
    "* Assignment Operaors\n",
    "* Membership Operators\n"
   ]
  },
  {
   "cell_type": "code",
   "execution_count": 1,
   "metadata": {},
   "outputs": [
    {
     "name": "stdout",
     "output_type": "stream",
     "text": [
      "8\n",
      "2\n",
      "4\n",
      "1.0\n",
      "2\n",
      "4\n",
      "1\n"
     ]
    }
   ],
   "source": [
    "# Arithmatic Operators\n",
    "print(4+4)\n",
    "\n",
    "print(3-1)\n",
    "\n",
    "print(2*2)\n",
    "\n",
    "print(3/3)\n",
    "\n",
    "print(4//2)\n",
    "\n",
    "print(2**2)\n",
    "\n",
    "print(3%2)"
   ]
  },
  {
   "cell_type": "code",
   "execution_count": 4,
   "metadata": {},
   "outputs": [
    {
     "name": "stdout",
     "output_type": "stream",
     "text": [
      "True\n",
      "False\n",
      "False\n",
      "False\n",
      "False\n",
      "False\n"
     ]
    }
   ],
   "source": [
    "# Relational Operators\n",
    "print(4<= 5)\n",
    "print(2>=6)\n",
    "print(3!=3)\n",
    "print(3==4)\n",
    "print(3>5)\n",
    "print(3<2)\n"
   ]
  },
  {
   "cell_type": "code",
   "execution_count": 6,
   "metadata": {},
   "outputs": [
    {
     "name": "stdout",
     "output_type": "stream",
     "text": [
      "1\n",
      "4\n",
      "False\n"
     ]
    }
   ],
   "source": [
    "# Logical Operators\n",
    "print(1 or 0)\n",
    "print(1 and 4)\n",
    "print( not 3)"
   ]
  },
  {
   "cell_type": "code",
   "execution_count": 9,
   "metadata": {},
   "outputs": [
    {
     "name": "stdout",
     "output_type": "stream",
     "text": [
      "2\n",
      "7\n",
      "7\n",
      "-5\n",
      "1\n",
      "16\n"
     ]
    }
   ],
   "source": [
    "# Bitwise Operators\n",
    "print(2 & 3)\n",
    "\n",
    "print(3 | 5)\n",
    "\n",
    "print(3 ^ 4)\n",
    "\n",
    "print(~ 4) \n",
    "print(3 >> 1)\n",
    "\n",
    "print(4 << 2)\n"
   ]
  },
  {
   "cell_type": "code",
   "execution_count": 1,
   "metadata": {},
   "outputs": [
    {
     "name": "stdout",
     "output_type": "stream",
     "text": [
      "0.0\n"
     ]
    }
   ],
   "source": [
    "# Assignment Operators\n",
    "a = 2\n",
    "a +-2\n",
    "a -= 2 \n",
    "a *=3\n",
    "a /= 3\n",
    "print(a)"
   ]
  },
  {
   "cell_type": "code",
   "execution_count": 4,
   "metadata": {},
   "outputs": [
    {
     "name": "stdout",
     "output_type": "stream",
     "text": [
      "True\n",
      "True\n",
      "False\n"
     ]
    }
   ],
   "source": [
    "# Membership Operators\n",
    "\n",
    "# in\n",
    "print ( 'D' in 'Delhi' )\n",
    "print( 1 in [1,2,4,6])\n",
    "# not in\n",
    "print(1 not in [2,5,7,1] )\n"
   ]
  },
  {
   "cell_type": "code",
   "execution_count": null,
   "metadata": {},
   "outputs": [],
   "source": [
    "# Program - Find the sum of a "
   ]
  }
 ],
 "metadata": {
  "kernelspec": {
   "display_name": "Python 3",
   "language": "python",
   "name": "python3"
  },
  "language_info": {
   "codemirror_mode": {
    "name": "ipython",
    "version": 3
   },
   "file_extension": ".py",
   "mimetype": "text/x-python",
   "name": "python",
   "nbconvert_exporter": "python",
   "pygments_lexer": "ipython3",
   "version": "3.12.7"
  }
 },
 "nbformat": 4,
 "nbformat_minor": 2
}
